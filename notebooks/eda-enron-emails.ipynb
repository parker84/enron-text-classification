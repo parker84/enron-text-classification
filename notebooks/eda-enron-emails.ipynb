{
 "cells": [
  {
   "cell_type": "code",
   "execution_count": 8,
   "metadata": {},
   "outputs": [],
   "source": [
    "import pandas as pd\n",
    "import plotly.express as px"
   ]
  },
  {
   "cell_type": "code",
   "execution_count": 9,
   "metadata": {},
   "outputs": [
    {
     "name": "stdout",
     "output_type": "stream",
     "text": [
      "(517403, 4)\n"
     ]
    },
    {
     "data": {
      "text/html": [
       "<div>\n",
       "<style scoped>\n",
       "    .dataframe tbody tr th:only-of-type {\n",
       "        vertical-align: middle;\n",
       "    }\n",
       "\n",
       "    .dataframe tbody tr th {\n",
       "        vertical-align: top;\n",
       "    }\n",
       "\n",
       "    .dataframe thead th {\n",
       "        text-align: right;\n",
       "    }\n",
       "</style>\n",
       "<table border=\"1\" class=\"dataframe\">\n",
       "  <thead>\n",
       "    <tr style=\"text-align: right;\">\n",
       "      <th></th>\n",
       "      <th>person</th>\n",
       "      <th>label</th>\n",
       "      <th>email_file</th>\n",
       "      <th>email_contents</th>\n",
       "    </tr>\n",
       "  </thead>\n",
       "  <tbody>\n",
       "    <tr>\n",
       "      <th>0</th>\n",
       "      <td>arnold-j</td>\n",
       "      <td>notes_inbox</td>\n",
       "      <td>./data/raw/maildir/arnold-j/notes_inbox/36.</td>\n",
       "      <td>Message-ID: &lt;17334447.1075857585446.JavaMail.e...</td>\n",
       "    </tr>\n",
       "    <tr>\n",
       "      <th>1</th>\n",
       "      <td>arnold-j</td>\n",
       "      <td>notes_inbox</td>\n",
       "      <td>./data/raw/maildir/arnold-j/notes_inbox/19.</td>\n",
       "      <td>Message-ID: &lt;19171686.1075857585034.JavaMail.e...</td>\n",
       "    </tr>\n",
       "    <tr>\n",
       "      <th>2</th>\n",
       "      <td>arnold-j</td>\n",
       "      <td>notes_inbox</td>\n",
       "      <td>./data/raw/maildir/arnold-j/notes_inbox/50.</td>\n",
       "      <td>Message-ID: &lt;29887033.1075857630725.JavaMail.e...</td>\n",
       "    </tr>\n",
       "    <tr>\n",
       "      <th>3</th>\n",
       "      <td>arnold-j</td>\n",
       "      <td>notes_inbox</td>\n",
       "      <td>./data/raw/maildir/arnold-j/notes_inbox/3.</td>\n",
       "      <td>Message-ID: &lt;29084893.1075849630138.JavaMail.e...</td>\n",
       "    </tr>\n",
       "    <tr>\n",
       "      <th>4</th>\n",
       "      <td>arnold-j</td>\n",
       "      <td>notes_inbox</td>\n",
       "      <td>./data/raw/maildir/arnold-j/notes_inbox/9.</td>\n",
       "      <td>Message-ID: &lt;30248874.1075857584813.JavaMail.e...</td>\n",
       "    </tr>\n",
       "  </tbody>\n",
       "</table>\n",
       "</div>"
      ],
      "text/plain": [
       "     person        label                                   email_file  \\\n",
       "0  arnold-j  notes_inbox  ./data/raw/maildir/arnold-j/notes_inbox/36.   \n",
       "1  arnold-j  notes_inbox  ./data/raw/maildir/arnold-j/notes_inbox/19.   \n",
       "2  arnold-j  notes_inbox  ./data/raw/maildir/arnold-j/notes_inbox/50.   \n",
       "3  arnold-j  notes_inbox   ./data/raw/maildir/arnold-j/notes_inbox/3.   \n",
       "4  arnold-j  notes_inbox   ./data/raw/maildir/arnold-j/notes_inbox/9.   \n",
       "\n",
       "                                      email_contents  \n",
       "0  Message-ID: <17334447.1075857585446.JavaMail.e...  \n",
       "1  Message-ID: <19171686.1075857585034.JavaMail.e...  \n",
       "2  Message-ID: <29887033.1075857630725.JavaMail.e...  \n",
       "3  Message-ID: <29084893.1075849630138.JavaMail.e...  \n",
       "4  Message-ID: <30248874.1075857584813.JavaMail.e...  "
      ]
     },
     "execution_count": 9,
     "metadata": {},
     "output_type": "execute_result"
    }
   ],
   "source": [
    "df = pd.read_csv('../data/processed/enron_emails.csv')\n",
    "print(df.shape)\n",
    "df.head()"
   ]
  },
  {
   "cell_type": "code",
   "execution_count": 18,
   "metadata": {},
   "outputs": [
    {
     "data": {
      "text/plain": [
       "label\n",
       "all_documents         128103\n",
       "discussion_threads     58609\n",
       "sent                   57653\n",
       "deleted_items          51356\n",
       "inbox                  44859\n",
       "                       ...  \n",
       "personalfolder           118\n",
       "ge_general               118\n",
       "06_saved                 113\n",
       "india                    111\n",
       "nerc                     111\n",
       "Name: count, Length: 100, dtype: int64"
      ]
     },
     "execution_count": 18,
     "metadata": {},
     "output_type": "execute_result"
    }
   ],
   "source": [
    "df.label.value_counts().head(100)"
   ]
  },
  {
   "cell_type": "code",
   "execution_count": 13,
   "metadata": {},
   "outputs": [
    {
     "data": {
      "text/plain": [
       "Index(['all_documents', 'discussion_threads', 'sent', 'deleted_items', 'inbox',\n",
       "       'sent_items', 'notes_inbox', '_sent_mail', 'calendar', 'archiving',\n",
       "       '_americas', 'personal', 'attachments', 'meetings', 'c',\n",
       "       'schedule_crawler', 'chris_stokley', 'logistics', 'archive',\n",
       "       'tw_commercial_group', 'deal_communication', 'california',\n",
       "       'bill_williams_iii', 'online_trading', 'power', 'e_mail_bin', 'tufco',\n",
       "       'resumes', 'gas', 'private_folders', 'ces', 'bankrupt', 'projects',\n",
       "       'genco_jv_ipo', 'california_issues', 'contacts', 'corporate',\n",
       "       'iso__pricecaps', 'universities', 'connect_deletes', 'wellhead',\n",
       "       'to_do', 'read', 'ferc', 'eesirenewableenergy', 'miscellaneous',\n",
       "       'europe', '_sent', 'articles', 'nelson', 'corporate_comm', 'misc',\n",
       "       'enron_news', 'gir', 'eci', 'heat_wave', 'industrials', 'info',\n",
       "       'lm6000', 'janie', 'market', 'conferences', 'it', 'rice', 'ctg_deals',\n",
       "       'london', 'enron_power', 'yazoo_city', 'transport', 'enron_t_s',\n",
       "       'eol___tagg', 'pan_energy_swap', 'tw', 'prc', 'australia',\n",
       "       'cleburne_plant____cornhusker_', 'systems', 'wordsmith', 'myfriends',\n",
       "       'var', 'recruiting', 'central', 'canada', 'general_stuff', 'japan',\n",
       "       'power_marketer', 'time_off', 'hr', 'diana_scholtes',\n",
       "       'motley_fool_e_mails', 'rainy_day', 'blue_dog', 'old_inbox', 'nsm',\n",
       "       'personnel', 'personalfolder', 'ge_general', '06_saved', 'india',\n",
       "       'nerc'],\n",
       "      dtype='object', name='label')"
      ]
     },
     "execution_count": 13,
     "metadata": {},
     "output_type": "execute_result"
    }
   ],
   "source": [
    "df.label.value_counts().head(100).index"
   ]
  },
  {
   "cell_type": "code",
   "execution_count": 20,
   "metadata": {},
   "outputs": [],
   "source": [
    "LABELS = [\n",
    "    'personal', 'meetings', 'logistics', 'resumes', 'gas', 'europe', 'projects', 'bankrupt', 'private_folders',\n",
    "    'california', 'power', 'hr', 'personalfolder', 'enron_news', 'universities',\n",
    "    'india', 'europe', 'enron_power', 'california_issues', 'canada', 'rainy_day', 'blue_dog', 'personnel'\n",
    "]\n",
    "assert sum([label in df.label.value_counts().head(100).index for label in LABELS]) == len(LABELS)"
   ]
  },
  {
   "cell_type": "code",
   "execution_count": null,
   "metadata": {},
   "outputs": [],
   "source": []
  }
 ],
 "metadata": {
  "kernelspec": {
   "display_name": "venv",
   "language": "python",
   "name": "python3"
  },
  "language_info": {
   "codemirror_mode": {
    "name": "ipython",
    "version": 3
   },
   "file_extension": ".py",
   "mimetype": "text/x-python",
   "name": "python",
   "nbconvert_exporter": "python",
   "pygments_lexer": "ipython3",
   "version": "3.11.6"
  }
 },
 "nbformat": 4,
 "nbformat_minor": 2
}
